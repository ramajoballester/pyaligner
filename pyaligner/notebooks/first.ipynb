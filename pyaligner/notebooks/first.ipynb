{
 "cells": [
  {
   "cell_type": "code",
   "execution_count": 8,
   "metadata": {},
   "outputs": [],
   "source": [
    "import os\n",
    "import torch\n",
    "import whisper\n",
    "import pyaligner\n",
    "from pyaligner.utils import utils"
   ]
  },
  {
   "cell_type": "code",
   "execution_count": 3,
   "metadata": {},
   "outputs": [
    {
     "data": {
      "text/plain": [
       "{'en': 'english',\n",
       " 'zh': 'chinese',\n",
       " 'de': 'german',\n",
       " 'es': 'spanish',\n",
       " 'ru': 'russian',\n",
       " 'ko': 'korean',\n",
       " 'fr': 'french',\n",
       " 'ja': 'japanese',\n",
       " 'pt': 'portuguese',\n",
       " 'tr': 'turkish',\n",
       " 'pl': 'polish',\n",
       " 'ca': 'catalan',\n",
       " 'nl': 'dutch',\n",
       " 'ar': 'arabic',\n",
       " 'sv': 'swedish',\n",
       " 'it': 'italian',\n",
       " 'id': 'indonesian',\n",
       " 'hi': 'hindi',\n",
       " 'fi': 'finnish',\n",
       " 'vi': 'vietnamese',\n",
       " 'he': 'hebrew',\n",
       " 'uk': 'ukrainian',\n",
       " 'el': 'greek',\n",
       " 'ms': 'malay',\n",
       " 'cs': 'czech',\n",
       " 'ro': 'romanian',\n",
       " 'da': 'danish',\n",
       " 'hu': 'hungarian',\n",
       " 'ta': 'tamil',\n",
       " 'no': 'norwegian',\n",
       " 'th': 'thai',\n",
       " 'ur': 'urdu',\n",
       " 'hr': 'croatian',\n",
       " 'bg': 'bulgarian',\n",
       " 'lt': 'lithuanian',\n",
       " 'la': 'latin',\n",
       " 'mi': 'maori',\n",
       " 'ml': 'malayalam',\n",
       " 'cy': 'welsh',\n",
       " 'sk': 'slovak',\n",
       " 'te': 'telugu',\n",
       " 'fa': 'persian',\n",
       " 'lv': 'latvian',\n",
       " 'bn': 'bengali',\n",
       " 'sr': 'serbian',\n",
       " 'az': 'azerbaijani',\n",
       " 'sl': 'slovenian',\n",
       " 'kn': 'kannada',\n",
       " 'et': 'estonian',\n",
       " 'mk': 'macedonian',\n",
       " 'br': 'breton',\n",
       " 'eu': 'basque',\n",
       " 'is': 'icelandic',\n",
       " 'hy': 'armenian',\n",
       " 'ne': 'nepali',\n",
       " 'mn': 'mongolian',\n",
       " 'bs': 'bosnian',\n",
       " 'kk': 'kazakh',\n",
       " 'sq': 'albanian',\n",
       " 'sw': 'swahili',\n",
       " 'gl': 'galician',\n",
       " 'mr': 'marathi',\n",
       " 'pa': 'punjabi',\n",
       " 'si': 'sinhala',\n",
       " 'km': 'khmer',\n",
       " 'sn': 'shona',\n",
       " 'yo': 'yoruba',\n",
       " 'so': 'somali',\n",
       " 'af': 'afrikaans',\n",
       " 'oc': 'occitan',\n",
       " 'ka': 'georgian',\n",
       " 'be': 'belarusian',\n",
       " 'tg': 'tajik',\n",
       " 'sd': 'sindhi',\n",
       " 'gu': 'gujarati',\n",
       " 'am': 'amharic',\n",
       " 'yi': 'yiddish',\n",
       " 'lo': 'lao',\n",
       " 'uz': 'uzbek',\n",
       " 'fo': 'faroese',\n",
       " 'ht': 'haitian creole',\n",
       " 'ps': 'pashto',\n",
       " 'tk': 'turkmen',\n",
       " 'nn': 'nynorsk',\n",
       " 'mt': 'maltese',\n",
       " 'sa': 'sanskrit',\n",
       " 'lb': 'luxembourgish',\n",
       " 'my': 'myanmar',\n",
       " 'bo': 'tibetan',\n",
       " 'tl': 'tagalog',\n",
       " 'mg': 'malagasy',\n",
       " 'as': 'assamese',\n",
       " 'tt': 'tatar',\n",
       " 'haw': 'hawaiian',\n",
       " 'ln': 'lingala',\n",
       " 'ha': 'hausa',\n",
       " 'ba': 'bashkir',\n",
       " 'jw': 'javanese',\n",
       " 'su': 'sundanese',\n",
       " 'yue': 'cantonese'}"
      ]
     },
     "execution_count": 3,
     "metadata": {},
     "output_type": "execute_result"
    }
   ],
   "source": [
    "whisper.tokenizer.LANGUAGES"
   ]
  },
  {
   "cell_type": "code",
   "execution_count": 6,
   "metadata": {},
   "outputs": [
    {
     "data": {
      "text/plain": [
       "'german'"
      ]
     },
     "execution_count": 6,
     "metadata": {},
     "output_type": "execute_result"
    }
   ],
   "source": [
    "whisper.tokenizer.LANGUAGES['de']"
   ]
  },
  {
   "cell_type": "code",
   "execution_count": 9,
   "metadata": {},
   "outputs": [
    {
     "data": {
      "text/plain": [
       "['abkhaz_cv',\n",
       " 'armenian_cv',\n",
       " 'bashkir_cv',\n",
       " 'basque_cv',\n",
       " 'belarusian_cv',\n",
       " 'bulgarian_cv',\n",
       " 'bulgarian_mfa',\n",
       " 'chuvash_cv',\n",
       " 'croatian_mfa',\n",
       " 'czech_cv',\n",
       " 'czech_mfa',\n",
       " 'dutch_cv',\n",
       " 'english_india_mfa',\n",
       " 'english_mfa',\n",
       " 'english_nigeria_mfa',\n",
       " 'english_uk_mfa',\n",
       " 'english_us_arpa',\n",
       " 'english_us_mfa',\n",
       " 'french_mfa',\n",
       " 'french_prosodylab',\n",
       " 'georgian_cv',\n",
       " 'german_mfa',\n",
       " 'german_prosodylab',\n",
       " 'greek_cv',\n",
       " 'guarani_cv',\n",
       " 'hausa_mfa',\n",
       " 'hindi_cv',\n",
       " 'hungarian_cv',\n",
       " 'indonesian_cv',\n",
       " 'italian_cv',\n",
       " 'japanese_mfa',\n",
       " 'kazakh_cv',\n",
       " 'korean_jamo_mfa',\n",
       " 'korean_mfa',\n",
       " 'kurmanji_cv',\n",
       " 'kyrgyz_cv',\n",
       " 'maltese_cv',\n",
       " 'mandarin_china_mfa',\n",
       " 'mandarin_erhua_mfa',\n",
       " 'mandarin_mfa',\n",
       " 'mandarin_pinyin',\n",
       " 'mandarin_taiwan_mfa',\n",
       " 'polish_cv',\n",
       " 'polish_mfa',\n",
       " 'portuguese_brazil_mfa',\n",
       " 'portuguese_cv',\n",
       " 'portuguese_mfa',\n",
       " 'portuguese_portugal_mfa',\n",
       " 'punjabi_cv',\n",
       " 'romanian_cv',\n",
       " 'russian_cv',\n",
       " 'russian_mfa',\n",
       " 'sorbian_upper_cv',\n",
       " 'spanish_latin_america_mfa',\n",
       " 'spanish_mfa',\n",
       " 'spanish_spain_mfa',\n",
       " 'swahili_mfa',\n",
       " 'swedish_cv',\n",
       " 'swedish_mfa',\n",
       " 'tamil_cv',\n",
       " 'tatar_cv',\n",
       " 'thai_cv',\n",
       " 'thai_mfa',\n",
       " 'turkish_cv',\n",
       " 'turkish_mfa',\n",
       " 'ukrainian_cv',\n",
       " 'ukrainian_mfa',\n",
       " 'urdu_cv',\n",
       " 'uyghur_cv',\n",
       " 'uzbek_cv',\n",
       " 'vietnamese_cv',\n",
       " 'vietnamese_hanoi_mfa',\n",
       " 'vietnamese_ho_chi_minh_city_mfa',\n",
       " 'vietnamese_hue_mfa',\n",
       " 'vietnamese_mfa']"
      ]
     },
     "execution_count": 9,
     "metadata": {},
     "output_type": "execute_result"
    }
   ],
   "source": [
    "utils.mfa_languages"
   ]
  },
  {
   "cell_type": "code",
   "execution_count": 5,
   "metadata": {},
   "outputs": [],
   "source": [
    "device = torch.device('cuda' if torch.cuda.is_available() else 'cpu')"
   ]
  },
  {
   "cell_type": "code",
   "execution_count": 6,
   "metadata": {},
   "outputs": [
    {
     "data": {
      "text/plain": [
       "['tiny.en',\n",
       " 'tiny',\n",
       " 'base.en',\n",
       " 'base',\n",
       " 'small.en',\n",
       " 'small',\n",
       " 'medium.en',\n",
       " 'medium',\n",
       " 'large-v1',\n",
       " 'large-v2',\n",
       " 'large-v3',\n",
       " 'large']"
      ]
     },
     "execution_count": 6,
     "metadata": {},
     "output_type": "execute_result"
    }
   ],
   "source": [
    "whisper.available_models()"
   ]
  },
  {
   "cell_type": "code",
   "execution_count": 7,
   "metadata": {},
   "outputs": [],
   "source": [
    "model = whisper.load_model('medium')"
   ]
  },
  {
   "cell_type": "code",
   "execution_count": null,
   "metadata": {},
   "outputs": [],
   "source": [
    "model = whisper.load_model('large-v3')"
   ]
  },
  {
   "cell_type": "code",
   "execution_count": 8,
   "metadata": {},
   "outputs": [],
   "source": [
    "audio_path = os.path.join(pyaligner.__path__[0], '..', 'audios')"
   ]
  },
  {
   "cell_type": "code",
   "execution_count": 9,
   "metadata": {},
   "outputs": [],
   "source": [
    "audio_dirs = os.listdir(audio_path)\n",
    "for audio_dir in audio_dirs:\n",
    "    audio_files = os.listdir(os.path.join(audio_path, audio_dir))\n",
    "    for audio_file in audio_files:\n",
    "        audio_file_path = os.path.join(audio_path, audio_dir, audio_file)\n",
    "        break\n",
    "    break\n"
   ]
  },
  {
   "cell_type": "code",
   "execution_count": 11,
   "metadata": {},
   "outputs": [
    {
     "ename": "RuntimeError",
     "evalue": "Failed to load audio: ffmpeg version 6.1.1 Copyright (c) 2000-2023 the FFmpeg developers\n  built with gcc 12.3.0 (conda-forge gcc 12.3.0-5)\n  configuration: --prefix=/home/conda/feedstock_root/build_artifacts/ffmpeg_1710227007179/_h_env_placehold_placehold_placehold_placehold_placehold_placehold_placehold_placehold_placehold_placehold_placehold_placehold_placehold_placehold_placehold_placehold_placehold_placehold_plac --cc=/home/conda/feedstock_root/build_artifacts/ffmpeg_1710227007179/_build_env/bin/x86_64-conda-linux-gnu-cc --cxx=/home/conda/feedstock_root/build_artifacts/ffmpeg_1710227007179/_build_env/bin/x86_64-conda-linux-gnu-c++ --nm=/home/conda/feedstock_root/build_artifacts/ffmpeg_1710227007179/_build_env/bin/x86_64-conda-linux-gnu-nm --ar=/home/conda/feedstock_root/build_artifacts/ffmpeg_1710227007179/_build_env/bin/x86_64-conda-linux-gnu-ar --disable-doc --disable-openssl --enable-demuxer=dash --enable-hardcoded-tables --enable-libfreetype --enable-libharfbuzz --enable-libfontconfig --enable-libopenh264 --enable-libdav1d --enable-gnutls --enable-libmp3lame --enable-libvpx --enable-libass --enable-pthreads --enable-vaapi --enable-libopenvino --enable-gpl --enable-libx264 --enable-libx265 --enable-libaom --enable-libsvtav1 --enable-libxml2 --enable-pic --enable-shared --disable-static --enable-version3 --enable-zlib --enable-libopus --pkg-config=/home/conda/feedstock_root/build_artifacts/ffmpeg_1710227007179/_build_env/bin/pkg-config\n  libavutil      58. 29.100 / 58. 29.100\n  libavcodec     60. 31.102 / 60. 31.102\n  libavformat    60. 16.100 / 60. 16.100\n  libavdevice    60.  3.100 / 60.  3.100\n  libavfilter     9. 12.100 /  9. 12.100\n  libswscale      7.  5.100 /  7.  5.100\n  libswresample   4. 12.100 /  4. 12.100\n  libpostproc    57.  3.100 / 57.  3.100\n[in#0 @ 0x5ab4ad07a780] Error opening input: Invalid data found when processing input\nError opening input file /home/breaststroker/alvaro/pyaligner/pyaligner/../audios/results/001.TextGrid.\nError opening input files: Invalid data found when processing input\n",
     "output_type": "error",
     "traceback": [
      "\u001b[0;31m---------------------------------------------------------------------------\u001b[0m",
      "\u001b[0;31mCalledProcessError\u001b[0m                        Traceback (most recent call last)",
      "File \u001b[0;32m~/miniconda3/envs/pyaligner/lib/python3.10/site-packages/whisper/audio.py:58\u001b[0m, in \u001b[0;36mload_audio\u001b[0;34m(file, sr)\u001b[0m\n\u001b[1;32m     57\u001b[0m \u001b[38;5;28;01mtry\u001b[39;00m:\n\u001b[0;32m---> 58\u001b[0m     out \u001b[38;5;241m=\u001b[39m \u001b[43mrun\u001b[49m\u001b[43m(\u001b[49m\u001b[43mcmd\u001b[49m\u001b[43m,\u001b[49m\u001b[43m \u001b[49m\u001b[43mcapture_output\u001b[49m\u001b[38;5;241;43m=\u001b[39;49m\u001b[38;5;28;43;01mTrue\u001b[39;49;00m\u001b[43m,\u001b[49m\u001b[43m \u001b[49m\u001b[43mcheck\u001b[49m\u001b[38;5;241;43m=\u001b[39;49m\u001b[38;5;28;43;01mTrue\u001b[39;49;00m\u001b[43m)\u001b[49m\u001b[38;5;241m.\u001b[39mstdout\n\u001b[1;32m     59\u001b[0m \u001b[38;5;28;01mexcept\u001b[39;00m CalledProcessError \u001b[38;5;28;01mas\u001b[39;00m e:\n",
      "File \u001b[0;32m~/miniconda3/envs/pyaligner/lib/python3.10/subprocess.py:526\u001b[0m, in \u001b[0;36mrun\u001b[0;34m(input, capture_output, timeout, check, *popenargs, **kwargs)\u001b[0m\n\u001b[1;32m    525\u001b[0m     \u001b[38;5;28;01mif\u001b[39;00m check \u001b[38;5;129;01mand\u001b[39;00m retcode:\n\u001b[0;32m--> 526\u001b[0m         \u001b[38;5;28;01mraise\u001b[39;00m CalledProcessError(retcode, process\u001b[38;5;241m.\u001b[39margs,\n\u001b[1;32m    527\u001b[0m                                  output\u001b[38;5;241m=\u001b[39mstdout, stderr\u001b[38;5;241m=\u001b[39mstderr)\n\u001b[1;32m    528\u001b[0m \u001b[38;5;28;01mreturn\u001b[39;00m CompletedProcess(process\u001b[38;5;241m.\u001b[39margs, retcode, stdout, stderr)\n",
      "\u001b[0;31mCalledProcessError\u001b[0m: Command '['ffmpeg', '-nostdin', '-threads', '0', '-i', '/home/breaststroker/alvaro/pyaligner/pyaligner/../audios/results/001.TextGrid', '-f', 's16le', '-ac', '1', '-acodec', 'pcm_s16le', '-ar', '16000', '-']' returned non-zero exit status 183.",
      "\nThe above exception was the direct cause of the following exception:\n",
      "\u001b[0;31mRuntimeError\u001b[0m                              Traceback (most recent call last)",
      "Cell \u001b[0;32mIn[11], line 1\u001b[0m\n\u001b[0;32m----> 1\u001b[0m audio \u001b[38;5;241m=\u001b[39m \u001b[43mwhisper\u001b[49m\u001b[38;5;241;43m.\u001b[39;49m\u001b[43mload_audio\u001b[49m\u001b[43m(\u001b[49m\u001b[43maudio_file_path\u001b[49m\u001b[43m)\u001b[49m\n",
      "File \u001b[0;32m~/miniconda3/envs/pyaligner/lib/python3.10/site-packages/whisper/audio.py:60\u001b[0m, in \u001b[0;36mload_audio\u001b[0;34m(file, sr)\u001b[0m\n\u001b[1;32m     58\u001b[0m     out \u001b[38;5;241m=\u001b[39m run(cmd, capture_output\u001b[38;5;241m=\u001b[39m\u001b[38;5;28;01mTrue\u001b[39;00m, check\u001b[38;5;241m=\u001b[39m\u001b[38;5;28;01mTrue\u001b[39;00m)\u001b[38;5;241m.\u001b[39mstdout\n\u001b[1;32m     59\u001b[0m \u001b[38;5;28;01mexcept\u001b[39;00m CalledProcessError \u001b[38;5;28;01mas\u001b[39;00m e:\n\u001b[0;32m---> 60\u001b[0m     \u001b[38;5;28;01mraise\u001b[39;00m \u001b[38;5;167;01mRuntimeError\u001b[39;00m(\u001b[38;5;124mf\u001b[39m\u001b[38;5;124m\"\u001b[39m\u001b[38;5;124mFailed to load audio: \u001b[39m\u001b[38;5;132;01m{\u001b[39;00me\u001b[38;5;241m.\u001b[39mstderr\u001b[38;5;241m.\u001b[39mdecode()\u001b[38;5;132;01m}\u001b[39;00m\u001b[38;5;124m\"\u001b[39m) \u001b[38;5;28;01mfrom\u001b[39;00m \u001b[38;5;21;01me\u001b[39;00m\n\u001b[1;32m     62\u001b[0m \u001b[38;5;28;01mreturn\u001b[39;00m np\u001b[38;5;241m.\u001b[39mfrombuffer(out, np\u001b[38;5;241m.\u001b[39mint16)\u001b[38;5;241m.\u001b[39mflatten()\u001b[38;5;241m.\u001b[39mastype(np\u001b[38;5;241m.\u001b[39mfloat32) \u001b[38;5;241m/\u001b[39m \u001b[38;5;241m32768.0\u001b[39m\n",
      "\u001b[0;31mRuntimeError\u001b[0m: Failed to load audio: ffmpeg version 6.1.1 Copyright (c) 2000-2023 the FFmpeg developers\n  built with gcc 12.3.0 (conda-forge gcc 12.3.0-5)\n  configuration: --prefix=/home/conda/feedstock_root/build_artifacts/ffmpeg_1710227007179/_h_env_placehold_placehold_placehold_placehold_placehold_placehold_placehold_placehold_placehold_placehold_placehold_placehold_placehold_placehold_placehold_placehold_placehold_placehold_plac --cc=/home/conda/feedstock_root/build_artifacts/ffmpeg_1710227007179/_build_env/bin/x86_64-conda-linux-gnu-cc --cxx=/home/conda/feedstock_root/build_artifacts/ffmpeg_1710227007179/_build_env/bin/x86_64-conda-linux-gnu-c++ --nm=/home/conda/feedstock_root/build_artifacts/ffmpeg_1710227007179/_build_env/bin/x86_64-conda-linux-gnu-nm --ar=/home/conda/feedstock_root/build_artifacts/ffmpeg_1710227007179/_build_env/bin/x86_64-conda-linux-gnu-ar --disable-doc --disable-openssl --enable-demuxer=dash --enable-hardcoded-tables --enable-libfreetype --enable-libharfbuzz --enable-libfontconfig --enable-libopenh264 --enable-libdav1d --enable-gnutls --enable-libmp3lame --enable-libvpx --enable-libass --enable-pthreads --enable-vaapi --enable-libopenvino --enable-gpl --enable-libx264 --enable-libx265 --enable-libaom --enable-libsvtav1 --enable-libxml2 --enable-pic --enable-shared --disable-static --enable-version3 --enable-zlib --enable-libopus --pkg-config=/home/conda/feedstock_root/build_artifacts/ffmpeg_1710227007179/_build_env/bin/pkg-config\n  libavutil      58. 29.100 / 58. 29.100\n  libavcodec     60. 31.102 / 60. 31.102\n  libavformat    60. 16.100 / 60. 16.100\n  libavdevice    60.  3.100 / 60.  3.100\n  libavfilter     9. 12.100 /  9. 12.100\n  libswscale      7.  5.100 /  7.  5.100\n  libswresample   4. 12.100 /  4. 12.100\n  libpostproc    57.  3.100 / 57.  3.100\n[in#0 @ 0x5ab4ad07a780] Error opening input: Invalid data found when processing input\nError opening input file /home/breaststroker/alvaro/pyaligner/pyaligner/../audios/results/001.TextGrid.\nError opening input files: Invalid data found when processing input\n"
     ]
    }
   ],
   "source": [
    "audio = whisper.load_audio(audio_file_path)"
   ]
  },
  {
   "cell_type": "code",
   "execution_count": 23,
   "metadata": {},
   "outputs": [],
   "source": [
    "audio = whisper.load_audio(audio_file_path)\n",
    "mel = whisper.log_mel_spectrogram(audio).to(model.device)"
   ]
  },
  {
   "cell_type": "code",
   "execution_count": null,
   "metadata": {},
   "outputs": [],
   "source": [
    "_, probs = model.detect_language(mel)"
   ]
  },
  {
   "cell_type": "code",
   "execution_count": null,
   "metadata": {},
   "outputs": [],
   "source": [
    "# decode the audio\n",
    "options = whisper.DecodingOptions()\n",
    "result = whisper.decode(model, mel, options)"
   ]
  },
  {
   "cell_type": "code",
   "execution_count": 31,
   "metadata": {},
   "outputs": [],
   "source": [
    "result = whisper.transcribe(model, audio)"
   ]
  },
  {
   "cell_type": "code",
   "execution_count": 34,
   "metadata": {},
   "outputs": [
    {
     "data": {
      "text/plain": [
       "'/home/breaststroker/alvaro/pyaligner/pyaligner/../audios/MA_M31_001/WhatsApp Audio 2024-03-15 at 16.57.08 (3).ogg'"
      ]
     },
     "execution_count": 34,
     "metadata": {},
     "output_type": "execute_result"
    }
   ],
   "source": [
    "audio_file_path"
   ]
  },
  {
   "cell_type": "code",
   "execution_count": 36,
   "metadata": {},
   "outputs": [
    {
     "data": {
      "text/plain": [
       "'es'"
      ]
     },
     "execution_count": 36,
     "metadata": {},
     "output_type": "execute_result"
    }
   ],
   "source": [
    "result['language']"
   ]
  },
  {
   "cell_type": "markdown",
   "metadata": {},
   "source": [
    "# Alignment"
   ]
  },
  {
   "cell_type": "markdown",
   "metadata": {},
   "source": []
  }
 ],
 "metadata": {
  "kernelspec": {
   "display_name": "pyaligner",
   "language": "python",
   "name": "python3"
  },
  "language_info": {
   "codemirror_mode": {
    "name": "ipython",
    "version": 3
   },
   "file_extension": ".py",
   "mimetype": "text/x-python",
   "name": "python",
   "nbconvert_exporter": "python",
   "pygments_lexer": "ipython3",
   "version": "3.10.13"
  }
 },
 "nbformat": 4,
 "nbformat_minor": 2
}
